{
 "cells": [
  {
   "cell_type": "markdown",
   "metadata": {
    "pycharm": {
     "metadata": false
    }
   },
   "source": [
    "# McsPyDataTools Tutorial for data analysis: Simple Tetrode Spike Sorting\n",
    "\n",
    "This tutorial gives an introduction into data analysis with the McsPyDataTools toolbox using a simple algorithm for spike sorting of tetrode data as an example.\n",
    "\n",
    "In this tutorial we show you, how you sort your MCS Data in the MCSPy package.\n",
    "The estanblished spike sorting pipeline consists of the following steps:\n",
    "1. spike detection and collection of spike cutouts\n",
    "2. feature extraction\n",
    "3. clustering\n",
    "4. validation\n",
    "MCS Software provides you with very sofiicated tools to perform spike detection and cutout collection. When converted to hdf5 using the MCS DataManager the results are stored in two streams, a SegmentStream for the spike cutouts and a TimeStampStream for the spike timestamps. This python package requires these two streams to extend the capabilities of MCS Software with offline spike sorting for tetrodes.\n",
    "The Sort() interface from the sorting module is a callable python class. It performs PCA for feature extraction and clustering using a method defined by the user. A manual on how to use the interface will be introduced in the respective section of this tutorial."
   ]
  },
  {
   "cell_type": "markdown",
   "metadata": {
    "pycharm": {
     "metadata": false
    }
   },
   "source": [
    "First we are going to import all necessary modules."
   ]
  },
  {
   "cell_type": "code",
   "execution_count": null,
   "metadata": {
    "pycharm": {
     "is_executing": false,
     "metadata": false,
     "name": "#%%\n"
    }
   },
   "outputs": [],
   "source": [
    "# SHOW ALL OUTPUTS\n",
    "from IPython.core.interactiveshell import InteractiveShell\n",
    "InteractiveShell.ast_node_interactivity = 'all'\n",
    "\n",
    "import os\n",
    "import numpy as np\n",
    "\n",
    "# MCS PyData tools\n",
    "import McsPy.McsData\n",
    "\n",
    "# IMPORT FROM src\n",
    "from McsPy.McsSpikeSorting.sorting import Sort\n",
    "\n",
    "# VISUALIZATION TOOLS\n",
    "import matplotlib.pyplot as plt\n",
    "import matplotlib as mpl\n",
    "%matplotlib inline\n",
    "\n",
    "# SUPRESS WARNINGS\n",
    "import warnings\n",
    "warnings.filterwarnings('ignore')\n",
    "\n",
    "# autoreload modules\n",
    "%load_ext autoreload\n",
    "%autoreload 2"
   ]
  },
  {
   "cell_type": "markdown",
   "metadata": {},
   "source": [
    "And define some handy path variables to locate our test dataset:"
   ]
  },
  {
   "cell_type": "code",
   "execution_count": null,
   "metadata": {
    "pycharm": {
     "is_executing": false
    }
   },
   "outputs": [],
   "source": [
    "path2data = '..\\\\data\\\\raw'\n",
    "path2extdata = '..\\\\data\\\\external'\n",
    "path2interdata = '..\\\\data\\\\interim'"
   ]
  },
  {
   "cell_type": "markdown",
   "metadata": {
    "pycharm": {
     "metadata": false
    }
   },
   "source": [
    "## Load data\n",
    "Next, we are going to use the MCSPy Datatools to load our test data file. The file is part of the test data files provided [here](https://www.multichannelsystems.com/software/multi-channel-datamanager). The toolbox is designed to perform spike **sorting on** MCS files that contain **Segment Stream**s of type **Cutout**, where we have precomputed the spikes using MCS software. Each segment stream entity corresponds to one channel. We need to define the four indices that make up our tetrode. Note! We expect each spike to be CUTOUT on ALL FOUR CHANNELS!"
   ]
  },
  {
   "cell_type": "code",
   "execution_count": null,
   "metadata": {
    "pycharm": {
     "is_executing": false,
     "metadata": false,
     "name": "#%%\n"
    }
   },
   "outputs": [],
   "source": [
    "# PARAMETERS\n",
    "filename = 'AnalogSegmentTimestamp.h5'\n",
    "tetrode = [0, 1, 2, 3]\n",
    "dt = 40e-6\n",
    "fs = 1/dt  # sampling rate of the signal in Hz\n",
    "\n",
    "file = McsPy.McsData.RawData(os.path.join(path2data, filename))\n",
    "segment_stream = file.recordings[0].segment_streams[0]\n",
    "timestamp_stream = file.recordings[0].timestamp_streams[0]\n",
    "\n",
    "spikes = np.array([segment_stream.segment_entity[tetrode[0]].data,\n",
    "                   segment_stream.segment_entity[tetrode[1]].data,\n",
    "                   segment_stream.segment_entity[tetrode[2]].data,\n",
    "                   segment_stream.segment_entity[tetrode[3]].data])\n",
    "spikes = spikes.transpose((1,2,0))  # we need to conver the data into the form [#num samples cutout , #spikes , #num channels]\n",
    "\n",
    "train = np.array([timestamp_stream.timestamp_entity[tetrode[0]].data,\n",
    "                  timestamp_stream.timestamp_entity[tetrode[1]].data,\n",
    "                  timestamp_stream.timestamp_entity[tetrode[2]].data,\n",
    "                  timestamp_stream.timestamp_entity[tetrode[3]].data])"
   ]
  },
  {
   "cell_type": "markdown",
   "metadata": {
    "pycharm": {
     "metadata": false,
     "name": "#%% md\n"
    }
   },
   "source": [
    "Let's have a look at the data."
   ]
  },
  {
   "cell_type": "code",
   "execution_count": null,
   "metadata": {},
   "outputs": [],
   "source": [
    "spikes.shape"
   ]
  },
  {
   "cell_type": "markdown",
   "metadata": {
    "pycharm": {
     "metadata": false
    }
   },
   "source": [
    "Plot first 25 spike waveforms"
   ]
  },
  {
   "cell_type": "code",
   "execution_count": null,
   "metadata": {
    "pycharm": {
     "is_executing": false,
     "metadata": false,
     "name": "#%%\n"
    }
   },
   "outputs": [],
   "source": [
    "w_len = spikes.shape[0]\n",
    "start = -1*w_len//2\n",
    "tt = np.arange(start, start+w_len) * dt * 1000\n",
    "ymax= np.max(spikes)\n",
    "ymin= np.min(spikes)\n",
    "\n",
    "_ = plt.figure(figsize=(11, 8))\n",
    "\n",
    "for i in range(spikes.shape[2]):\n",
    "    _ = plt.subplot(2,2,i+1)\n",
    "    _ = plt.plot(tt,spikes[:,1:25,i],'k', linewidth=1, alpha=0.3)\n",
    "    _ = plt.ylim((ymin, ymax))\n",
    "    _ = plt.xlim((tt[0],tt[-1]))\n",
    "    _ = plt.ylabel('ADC value')\n",
    "    _ = plt.xlabel('time [$\\mu$s]')\n",
    "    _ = plt.title('channel {}'.format(i))\n",
    "\n",
    "_ = plt.tight_layout()"
   ]
  },
  {
   "cell_type": "markdown",
   "metadata": {
    "pycharm": {
     "metadata": false
    }
   },
   "source": [
    "Plot largest 25 spike waveforms"
   ]
  },
  {
   "cell_type": "code",
   "execution_count": null,
   "metadata": {
    "pycharm": {
     "is_executing": false,
     "metadata": false,
     "name": "#%%\n"
    },
    "scrolled": false
   },
   "outputs": [],
   "source": [
    "idx = np.argsort(np.min(np.min(spikes,axis=2),axis=0))\n",
    "\n",
    "tt = np.arange(start, start+w_len) * dt * 1000\n",
    "ymax= np.max(spikes)*1.05\n",
    "ymin= np.min(spikes)*1.05\n",
    "\n",
    "_ = plt.figure(figsize=(11, 8))\n",
    "for i in range(spikes.shape[2]):\n",
    "    _ = plt.subplot(2,2,i+1)\n",
    "    _ = plt.plot(tt,spikes[:,idx[0:25],i],'k', linewidth=1, alpha=0.3)\n",
    "    _ = plt.ylim((ymin, ymax))\n",
    "    _ = plt.xlim((tt[0],tt[-1]))\n",
    "    _ = plt.ylabel('ADC value')\n",
    "    _ = plt.xlabel('time [$\\mu$s]')\n",
    "    _ = plt.title('channel {}'.format(i))\n",
    "\n",
    "_ = plt.tight_layout()"
   ]
  },
  {
   "cell_type": "markdown",
   "metadata": {},
   "source": [
    "## Sorting\n",
    "\n",
    "For sorting, the McsPy package provides the callable interface class Sort().\n",
    "Using\n",
    "- `sorter=Sort()`             ... we initialize the interface\n",
    "- `assignments = sorter()`    ... we fits the underlying model for clustering and assign our spikes to detected units\n",
    "All model parameters have to be passed during initialization. For model parameters and their documentation please check the cluster module. DO NOT forget to validate your results. A preliminary set of tools for validation is available in the validation module."
   ]
  },
  {
   "cell_type": "code",
   "execution_count": null,
   "metadata": {
    "pycharm": {
     "is_executing": false
    },
    "scrolled": false
   },
   "outputs": [],
   "source": [
    "sorter = Sort(method='modt', max_iter=30)\n",
    "assignments = sorter(segment_stream, timestamp_stream)"
   ]
  },
  {
   "cell_type": "markdown",
   "metadata": {},
   "source": [
    "Let's visualize the results. We are going to plot the first principle components of every channel against each other."
   ]
  },
  {
   "cell_type": "code",
   "execution_count": null,
   "metadata": {},
   "outputs": [],
   "source": [
    "# PARAMETERS\n",
    "num_clusters = np.unique(assignments).shape[0]\n",
    "b = sorter.features\n",
    "\n",
    "# SETUP COLOR MAP\n",
    "norm = mpl.colors.Normalize(vmin=0, vmax=num_clusters)\n",
    "cmap = plt.cm.jet\n",
    "m = plt.cm.ScalarMappable(norm=norm, cmap=cmap)\n",
    "\n",
    "# PLOT\n",
    "_ = plt.figure(figsize=(20, 10))\n",
    "_ = plt.suptitle('Scatter plots',fontsize=20)\n",
    "\n",
    "idx = [0, 3, 6, 9]\n",
    "p = 1\n",
    "labels = ['Ch1','Ch2','Ch3','Ch4']\n",
    "maxb = np.max(np.abs(b))*1.05/2\n",
    "for i in np.arange(0,4):\n",
    "    for j in np.arange(i+1,4):\n",
    "        ax = plt.subplot(2,3,p, aspect='equal')\n",
    "        _ = plt.scatter(b[:,idx[i]], \n",
    "                        b[:,idx[j]], \n",
    "                        c=assignments, \n",
    "                        alpha=0.3, \n",
    "                        s=4, \n",
    "                        cmap=cmap)\n",
    "        _ = plt.xlabel(labels[i])\n",
    "        _ = plt.ylabel(labels[j])\n",
    "        _ = plt.xlim((-maxb,maxb))\n",
    "        _ = plt.ylim((-maxb,maxb))\n",
    "        _ = ax.set_xticks([])\n",
    "        _ = ax.set_yticks([])\n",
    "#         _ = ax.legend(np.sort(np.unique(assignments_first_modt)))\n",
    "        p = p+1"
   ]
  },
  {
   "cell_type": "code",
   "execution_count": null,
   "metadata": {},
   "outputs": [],
   "source": []
  }
 ],
 "metadata": {
  "kernelspec": {
   "display_name": "Python 3",
   "language": "python",
   "name": "python3"
  },
  "language_info": {
   "codemirror_mode": {
    "name": "ipython",
    "version": 3
   },
   "file_extension": ".py",
   "mimetype": "text/x-python",
   "name": "python",
   "nbconvert_exporter": "python",
   "pygments_lexer": "ipython3",
   "version": "3.7.0"
  },
  "pycharm": {
   "stem_cell": {
    "cell_type": "raw",
    "metadata": {
     "collapsed": false
    },
    "source": []
   }
  },
  "stem_cell": {
   "cell_type": "raw",
   "metadata": {
    "pycharm": {
     "metadata": false
    }
   },
   "source": ""
  }
 },
 "nbformat": 4,
 "nbformat_minor": 2
}

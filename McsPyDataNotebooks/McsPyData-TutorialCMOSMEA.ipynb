{
 "cells": [
  {
   "cell_type": "markdown",
   "metadata": {
    "pycharm": {}
   },
   "source": [
    "McsPyDataTools Tutorial for CMOS MEA file format<a id='Top'></a>\n",
    "=======================\n",
    "\n",
    "- ### <a href='#McsPy'>The McsPy module for Mcs CMOS MEA file handling\n",
    "- ### <a href='#Mcs-HDF5'>Structure of the Mcs-HDF5 CMOS MEA files</a>\n",
    "\n",
    "- ### <a href='#McsData Module'>McsData Classes and Inheritance</a>\n",
    "-------------------------------------------------------------------------------------------\n",
    "  \n",
    "- <a href='#Accessing your Data with McsData'>Accessing your Data with McsData</a>\n",
    "----------------------------------------------------------------------------------\n",
    " - ### <a href='#Req'>Requirements</a>\n",
    " - ### <a href='#naming'>Naming</a>\n",
    " - ### <a href='#acquisition'>Acquisiton</a>\n",
    " - ### <a href='#channelStream'>ChannelStream</a>\n",
    " - ### <a href='#sensorStream'>SensorStream</a>\n",
    " - ### <a href='#eventStream'>EventStream</a>\n",
    "\n",
    "The McsPy module for Mcs CMOS MEA file handling<a id='McsPy'></a>\n",
    "---------------------------------------------------\n",
    "With the ```h5py``` package, a omnipotent tool for accessing HDF5 files in python already exists. This toolbox builds upon h5py by subclassing its central ```h5py.Group``` and ```h5py.Dataset``` classes as ```McsGroup``` and ```McsDataset``` respectively. Thus the McsPy classes feature all attributes and methods you might be used to from working with ```h5py```, and simply extend them with MCS specific features. So if you are new to HDF5 in python you can always refer to the h5py documentation and diskussions. Likewise, if you have worked with ```h5py``` previously you will find your self in an at least familiar environment.\n",
    "If you prefer to work with h5py functionalities at any point in your analysis, feel free to retrieve the h5py base object by from the McsPy object attribute ```.h5py_object```\n",
    "\n",
    "```python\n",
    "    h5py_object = self.h5py_object\n",
    "```\n",
    "\n",
    "Structure of the HDF5 MCS-CMOS-MEA file system<a id='Mcs-HDF5'></a>\n",
    "---------------------------------------------------\n",
    "\n",
    "A MCS-CMOS-MEA filesystem typically consists of two seperate files. A HDF5 MCS-CMOS-MEA RawData (RD) file and a HDF5 MCS-CMOS-MEA ProcessedData (PD) file.\n",
    "The RD file holds all raw data generated into an CMOS MEA experiment, i.e. mainly diffrent MCS data streams. The coresponding file extension is '.cmcr'.\n",
    "The PD file itself contains all data generated in post-processing raw data with MCS software. Results lie in their respective subgroups Filter Tool, STA Explorer, Spike Explorer, and Spike Sorter. Furthermore, MCS tools make use of the HDF5 capabilities to mount HDF5 files into each other. In that sense, the PD file mounts the RD file into the \"Aquisition\" subgroup of its own hierarchy tree. Thus, given the link in the PD file correctly points to the RD file, this toolbox provides an set of intuitive access tools for both, RD and PD via just the PD file. The coresponding file extension is '.cmtr'.\n",
    "\n",
    "As McsPy toolbox works with the underlying, stricly hierarchical HDF5 structure, the the origin of every data exploration with the McsPy toolbox is the ```McsData``` object. As the docstrings of the class already imply, this class was designed to hold the information of a complete HDF5 MCS-CMOS-MEA file system.\n",
    "\n",
    "```python\n",
    "    data = McsData('path to your data')\n",
    "```\n",
    "\n",
    "We highly recomend the suplementary use of the HDF Groups **HDFView** software to help visualize and understand the structure of HDF5 files. This can make accessing the data **MUCH** easier.\n",
    "\n",
    "<a href='#Top'>Back to index</a>\n",
    "\n",
    "McsData Classes and Inheritance <a id='McsData Module'></a>\n",
    "---------------------------------------------------------------------------------------\n",
    "\n",
    "Generally, the McsPy toolbox creates a stucture that, upon navigation through the file, reflects the HDF5 MCS-CMOS-MEA file structure, e.g. just as the HDF5 MCS-CMOS-MEA file system holds raw data in the \"Aquisition\" subgroup, the McsData object has an attribute ```data.Acquisition```. Therefore, you can refer to the following graphical representation of the HDF5 MCS-CMOS-MEA file hierarchy for easy navigation through the python objects.\n",
    "\n",
    "Note: The subgroups of the root will not be accessible if they do not exist in the loaded MCS-CMOS-MEA file system.\n",
    "\n",
    "<a id='file_structure_graphic'></a>\n",
    "<img src=\"./Cmos_Hierarchy_short.png\">\n",
    "\n",
    "Upon initialization with the path to your data\n",
    "\n",
    "```python\n",
    "    data = McsData('path to your data')\n",
    "```\n",
    "\n",
    "membermethods of this class will check if the provided file meets the version requirements to be further processesed. This is neccessary, as not only the way how Mcs programs handle the HDF5 formated files may change but the fileformat itself can undergo changes.\n",
    "\n",
    "Afterwards all information about the data, which is stored in the file is retrieved from the hdf5 attributes, decoded and saved in the in the attribute ```.attributes``` as a dictionary. The ```.attributes``` is created for every McsPy object.\n",
    "\n",
    "```python\n",
    "    data.attributes\n",
    "```\n",
    "\n",
    "An access request on one of the subgroups or datasets (i.e. Acquisition, Filter Tool, STA Explorer, Spike Explorer, Spike Sorter) readies the respective data, i.e.s\n",
    "\n",
    "```python\n",
    "    aquisition_data = data.Aquisition\n",
    "```\n",
    "\n",
    "This instantiates a new McsPy object holding the all data about the requested subgroup.\n",
    "\n",
    "\n",
    "\n",
    "\n",
    "\n",
    "<a href='#Top'>Back to index</a>"
   ]
  },
  {
   "cell_type": "markdown",
   "metadata": {
    "pycharm": {}
   },
   "source": [
    "## Accessing your Data with McsData<a id='Accessing your Data with McsData'></a>\n",
    "\n",
    "Now that the general structure of a HDF5 file and the McsPy package with its McsData class is clear we can walk through some quick and easy examples of how to access and visualize your data.\n",
    "\n",
    "\n",
    "Navigation through McsPy objects implements two central concepts:\n",
    "1. Groups work like dicionaries or classes.\n",
    "2. Datasets work like numpy arrays.\n",
    "\n",
    "### Naming<a id='naming'></a>\n",
    "\n",
    "Wherever possible McsPy names instances and attributes as found in the MCS-CMOS-MEA file system. However, some systematic substitutions in group, dataset, and attribute naming are necessary to ensure python compatibility:\n",
    "\n",
    "\n",
    "| **HDF5 MCS-CMOS-MEA** | **Mcs python toolbox**     |\n",
    "|-----------------------|----------------------------|\n",
    "| whitespace            | _                          |\n",
    "| .                     | _                          |\n",
    "| ,                     | _                          |\n",
    "| @                     | at                         |\n",
    "| (                     | (character removed)        |\n",
    "| )                     | (character removed)        |\n",
    "| :                     | (character removed)        |"
   ]
  },
  {
   "cell_type": "markdown",
   "metadata": {
    "pycharm": {}
   },
   "source": [
    "### Requirements <a id='Req'></a>\n",
    "\n",
    "So let's dig in and train a feeling for working with MCS data.\n",
    "\n",
    "First some modules need to be imported:"
   ]
  },
  {
   "cell_type": "code",
   "execution_count": null,
   "metadata": {
    "pycharm": {
     "is_executing": false
    }
   },
   "outputs": [],
   "source": [
    "# These are the imports of the McsData module\n",
    "import sys, importlib, os\n",
    "sys.path.append(\"D:\\Programming\\McsDataManagement\\McsPyDataTools\\McsPyDataTools\")\n",
    "import McsPy\n",
    "import McsPy.McsCMOSMEA\n",
    "\n",
    "# matplotlib.pyplot will be used in these examples to generate the plots visualizing the data\n",
    "import matplotlib.pyplot as plt\n",
    "from matplotlib.figure import Figure\n",
    "from matplotlib.widgets import Slider, AxesWidget\n",
    "import matplotlib.animation as animation\n",
    "from IPython.display import HTML\n",
    "# These adjustments only need to be made so that the plot gets displayed inside the notebook\n",
    "%matplotlib inline\n",
    "# %config InlineBackend.figure_formats = {'png', 'retina'}\n",
    "\n",
    "# numpy is numpy & pandas os pandas\n",
    "import numpy as np\n",
    "import pandas as pd\n",
    "\n",
    "# bokeh adds more interactivity to the plots within notebooks. Adds toolbar at the top-right corner of the plot.\n",
    "# Allows zooming, panning and saving of the plot\n",
    "import bokeh.io\n",
    "import bokeh.plotting\n",
    "\n",
    "# IMPORT cv2 to write a video\n",
    "from cv2 import VideoWriter, VideoWriter_fourcc\n",
    "\n",
    "#import widgets\n",
    "from ipywidgets import *\n",
    "from ipywebrtc import VideoStream\n",
    "\n",
    "# autoreload modules\n",
    "%load_ext autoreload\n",
    "%autoreload 2"
   ]
  },
  {
   "cell_type": "markdown",
   "metadata": {
    "pycharm": {}
   },
   "source": [
    "Now, set the path to your TestData files:"
   ]
  },
  {
   "cell_type": "code",
   "execution_count": null,
   "metadata": {
    "pycharm": {
     "is_executing": false
    }
   },
   "outputs": [],
   "source": [
    "path2TestData = \"D:\\Programming\\McsDataManagement\\McsPyDataTools\\TestData\""
   ]
  },
  {
   "cell_type": "markdown",
   "metadata": {
    "pycharm": {}
   },
   "source": [
    "Sometimes running Python applications in the background can interfere with the functionalities of this notebook. To make sure that all plots are created correctly you are best advised to exit any other Python related processes."
   ]
  },
  {
   "cell_type": "markdown",
   "metadata": {
    "pycharm": {}
   },
   "source": [
    "Next we need to access the data file by initializing an instance of the McsData class from the McsData module with the path to the file:"
   ]
  },
  {
   "cell_type": "code",
   "execution_count": null,
   "metadata": {
    "pycharm": {
     "is_executing": false
    }
   },
   "outputs": [],
   "source": [
    "path2TestDataFile1 = os.path.join(path2TestData, \"V200-SensorRoi-3Aux-Dig-Stim2-DiginEvts-5kHz.cmcr\")\n",
    "cmosmea_multi_talent = McsPy.McsCMOSMEA.McsData(path2TestDataFile1)"
   ]
  },
  {
   "cell_type": "markdown",
   "metadata": {
    "pycharm": {}
   },
   "source": [
    "The filepath points to the folder TestData within the folder, where this notebook resides.\n",
    "\n",
    "**Note**: The ```McsData``` call actually determines the type of MCS HDF5 file system, which you have called, and intentionally returns an instance of an appropriate class. So do not be confused if the return is not an instance of ```McsData``` as you have maybe expected.\n",
    "\n",
    "To check if we got access to the file we can simply print the object. This gives a rough overview of the contents of the CMOS MEA RawData, or CMOS MEA ProcessedData file. In general, all McsGroup objects provide some information about themselves and a table of all subgroubs or datasets (which you can check against the graphic) upon printing. The table also provides the McsPy access name of all contents."
   ]
  },
  {
   "cell_type": "code",
   "execution_count": null,
   "metadata": {
    "pycharm": {
     "is_executing": false
    }
   },
   "outputs": [],
   "source": [
    "print(cmosmea_multi_talent)"
   ]
  },
  {
   "cell_type": "markdown",
   "metadata": {
    "pycharm": {}
   },
   "source": [
    "The root object holds information about the **Date** of the recording, the **Program** which was used as well as its **Version**.\n",
    "\n",
    "Secondaly, feel free to browse the ```self.attributes``` on any instance of ```McsGroup``` or ```McsDataset``` for more detailed information. And finally, you can call ```McsGroup.tree(self)``` for an 'indent-tree' of the current HDF5 Group and all its decendents. Feel free to check the output against the graphics <a href='#file_structure_graphic'>above</a>.\n",
    "\n",
    "**Note**: As file trees may become very large very quickly, you are advised to print the instance rather than the tree once you are familiar with the MCS HDF5 file system."
   ]
  },
  {
   "cell_type": "code",
   "execution_count": null,
   "metadata": {
    "pycharm": {
     "is_executing": false
    }
   },
   "outputs": [],
   "source": [
    "print(cmosmea_multi_talent.tree())"
   ]
  },
  {
   "cell_type": "markdown",
   "metadata": {
    "pycharm": {}
   },
   "source": [
    "<a href='#Top'>Back to index</a>"
   ]
  },
  {
   "cell_type": "markdown",
   "metadata": {
    "pycharm": {}
   },
   "source": [
    "### Accessing Acquisition Data<a id='acquisition'></a>\n",
    "\n",
    "From the table we see, that we can access the RawData, which is stored in the 'Acquisition' group of the MCS HDF5 file by simply calling the acquisition attribute on our ```cmosmea_multi_talent``` instance. Let's go ahead and get a glimps of the Rawdata streams in the file."
   ]
  },
  {
   "cell_type": "code",
   "execution_count": null,
   "metadata": {
    "pycharm": {
     "is_executing": false
    }
   },
   "outputs": [],
   "source": [
    "print(cmosmea_multi_talent.Acquisition)"
   ]
  },
  {
   "cell_type": "markdown",
   "metadata": {
    "pycharm": {}
   },
   "source": [
    "#### Channel Streams<a id='channelStream'></a>\n",
    "We can navigate further to start and work with some channel data."
   ]
  },
  {
   "cell_type": "code",
   "execution_count": null,
   "metadata": {
    "pycharm": {
     "is_executing": false
    }
   },
   "outputs": [],
   "source": [
    "print(cmosmea_multi_talent.Acquisition.STG_Waveform)"
   ]
  },
  {
   "cell_type": "markdown",
   "metadata": {
    "pycharm": {}
   },
   "source": [
    "The Channel Stream 'Digital Data' object contains the two data sets ```ChannelData_1``` and ```ChannelMeta```. The objects we obtain upon access are not arrays, but subclasses of ```h5py.Dataset```. However, ```h5py.Dataset``` can be accessed, sliced and manipulated just as numpy arrays. So ```h5py.Dataset``` have a shape, a size, and a data type. For more information on working with Datasets please refer to the h5py <a href='https://readthedocs.org/projects/h5py/'>documentation</a>."
   ]
  },
  {
   "cell_type": "code",
   "execution_count": null,
   "metadata": {
    "pycharm": {
     "is_executing": false
    }
   },
   "outputs": [],
   "source": [
    "print('Shape:'.ljust(10)+str(cmosmea_multi_talent.Acquisition.STG_Waveform.ChannelData_1.shape))\n",
    "print('Size:'.ljust(10)+str(cmosmea_multi_talent.Acquisition.STG_Waveform.ChannelData_1.size))\n",
    "print('Type:'.ljust(10)+str(cmosmea_multi_talent.Acquisition.STG_Waveform.ChannelData_1.dtype))"
   ]
  },
  {
   "cell_type": "markdown",
   "metadata": {
    "pycharm": {}
   },
   "source": [
    "Now, let's go ahead and visual the signal of a channel we recorded:"
   ]
  },
  {
   "cell_type": "code",
   "execution_count": null,
   "metadata": {
    "pycharm": {
     "is_executing": false
    }
   },
   "outputs": [],
   "source": [
    "channeldata_1 = cmosmea_multi_talent.Acquisition.STG_Waveform.ChannelData_1\n",
    "exponent = cmosmea_multi_talent.Acquisition.STG_Waveform.ChannelData_1.Meta['Exponent'][0]\n",
    "channel_id = cmosmea_multi_talent.Acquisition.STG_Waveform.ChannelData_1.Meta['ChannelID'][0]\n",
    "\n",
    "plt.figure(figsize=(0.681*20, 0.328*20))\n",
    "plt.plot(channeldata_1[0,2000:3000])\n",
    "plt.ylabel('Voltage [Ve'+str(exponent)+']')\n",
    "plt.xlabel('Time in timesteps')\n",
    "plt.title('Signal recorded by Channel '+str(channel_id), fontweight='bold')"
   ]
  },
  {
   "cell_type": "markdown",
   "metadata": {
    "pycharm": {}
   },
   "source": [
    "#### Sensor Streams<a id='sensorStream'></a>\n",
    "Alternatively we investigate a Sensor Stream."
   ]
  },
  {
   "cell_type": "code",
   "execution_count": null,
   "metadata": {
    "pycharm": {
     "is_executing": false
    }
   },
   "outputs": [],
   "source": [
    "print(cmosmea_multi_talent.Acquisition.Sensor_Data)"
   ]
  },
  {
   "cell_type": "markdown",
   "metadata": {
    "pycharm": {}
   },
   "source": [
    "To visualize the sensor day as greyscale images, we can create an animation in matplotlib and play it as a HTML video."
   ]
  },
  {
   "cell_type": "code",
   "execution_count": null,
   "metadata": {
    "pycharm": {
     "is_executing": false
    }
   },
   "outputs": [],
   "source": [
    "images = cmosmea_multi_talent.Acquisition.Sensor_Data.SensorData_1_1\n",
    "\n",
    "fig = plt.figure()\n",
    "\n",
    "im = plt.imshow(images[0], animated=True, cmap='gray')\n",
    "plt.title('Sensor Data 1 1')\n",
    "plt.box(False)\n",
    "\n",
    "def updatefig(i):\n",
    "    global images\n",
    "    im.set_array(images[i])\n",
    "    return im,\n",
    "\n",
    "ani = animation.FuncAnimation(fig, updatefig, interval=50, blit=True)\n",
    "\n",
    "plt.close(ani._fig)\n",
    "\n",
    "# Call function to display the animation\n",
    "HTML(ani.to_html5_video())"
   ]
  },
  {
   "cell_type": "markdown",
   "metadata": {
    "pycharm": {}
   },
   "source": [
    "We can also take the our sensor data and create a simple slider to go through the block of sensor data in time:"
   ]
  },
  {
   "cell_type": "code",
   "execution_count": null,
   "metadata": {
    "pycharm": {
     "is_executing": false
    }
   },
   "outputs": [],
   "source": [
    "%matplotlib notebook\n",
    "\n",
    "images = cmosmea_multi_talent.Acquisition.Sensor_Data.SensorData_1_1\n",
    "num_of_images = images.shape[0]-1\n",
    "\n",
    "fig = plt.figure(figsize=(0.681*10, 0.328*10))\n",
    "ax = fig.add_subplot(1,1,1)\n",
    "plt.title('Sensor Data 1 1')\n",
    "plt.box(False)\n",
    "fig.show()\n",
    "#print(images.shape)\n",
    "def updateFrame(Frame):\n",
    "    ax.imshow(images[Frame,::], cmap=\"gray\")\n",
    "              \n",
    "interact(updateFrame, Frame=widgets.IntSlider(min=0,max=num_of_images,step=1,value=0))"
   ]
  },
  {
   "cell_type": "markdown",
   "metadata": {
    "pycharm": {}
   },
   "source": [
    "<a href='#Top'>Back to index</a>"
   ]
  },
  {
   "cell_type": "markdown",
   "metadata": {
    "pycharm": {}
   },
   "source": [
    "#### EventStream<a id='eventStream'></a>\n",
    "\n",
    "EventStreams can be a wide array of events predefined by the user and stored in this stream. From the beginning/end or the duration of a treatment to periodically recurring stimuli this can be everything."
   ]
  },
  {
   "cell_type": "markdown",
   "metadata": {
    "pycharm": {}
   },
   "source": [
    "<a href='#Top'>Back to index</a>"
   ]
  },
  {
   "cell_type": "code",
   "execution_count": null,
   "metadata": {
    "pycharm": {
     "is_executing": false
    }
   },
   "outputs": [],
   "source": [
    "print(cmosmea_multi_talent.Acquisition.STG_Sideband_Events)"
   ]
  },
  {
   "cell_type": "markdown",
   "metadata": {
    "pycharm": {}
   },
   "source": [
    "We prepare the data."
   ]
  },
  {
   "cell_type": "code",
   "execution_count": null,
   "metadata": {
    "pycharm": {
     "is_executing": false
    }
   },
   "outputs": [],
   "source": [
    "# GET pandas DataFrame FROM MCSHDF5 FORMAT\n",
    "eventData = cmosmea_multi_talent.Acquisition.STG_Sideband_Events.EventData.to_pdDataFrame().iloc[:50,:]\n",
    "eventData = eventData.sort_values(by='EventID')\n",
    "\n",
    "# EXTRACT EVENT POSTION IN TIME\n",
    "eventPosition = eventData.pivot(columns='EventID', values='TimeStamp')\n",
    "eventPosition.fillna(method='ffill', axis='index', inplace=True)\n",
    "eventPosition.fillna(method='bfill', axis='index', inplace=True)\n",
    "\n",
    "# EXTRACT EVENT DURATION\n",
    "eventDuration = eventData.pivot(columns='EventID', values='Duration')\n",
    "eventDuration.fillna(method='ffill', axis='index', inplace=True)\n",
    "eventDuration.fillna(method='bfill', axis='index', inplace=True)\n",
    "eventDuration[eventDuration == 0] += 0.2 # add minimum event duration\n",
    "\n",
    "# EXTRACT EVENT DESCIPTION\n",
    "eventMeta = cmosmea_multi_talent.Acquisition.STG_Sideband_Events.EventMeta.to_pdDataFrame().iloc[:50,:]\n",
    "eventMeta = eventMeta.sort_values(by='EventID')\n",
    "eventLabels = eventMeta.loc[eventMeta['EventID'].isin(eventData.EventID.unique())]['Label'].tolist()"
   ]
  },
  {
   "cell_type": "markdown",
   "metadata": {
    "pycharm": {}
   },
   "source": [
    "And visualize it"
   ]
  },
  {
   "cell_type": "code",
   "execution_count": null,
   "metadata": {
    "pycharm": {
     "is_executing": false
    }
   },
   "outputs": [],
   "source": [
    "# VISUALIZE EVENTS\n",
    "fig = plt.figure(figsize=(10, 5))\n",
    "ax = fig.add_subplot(111)\n",
    "\n",
    "colors = [[0, 1, 0], [1, 0, 0]]\n",
    "\n",
    "ax.eventplot(eventPosition.values.transpose(), \n",
    "                   linewidth=eventDuration.values.transpose(), \n",
    "                   linelength = 0.62,\n",
    "                   colors=colors)\n",
    "\n",
    "ax.set_title('Events in STG_Sideband_Events')\n",
    "ax.set_xlabel('time [ms]')\n",
    "ax.set_ylabel('Event')\n",
    "ax.set_yticks(range(len(eventLabels)))\n",
    "ax.set_yticklabels(eventLabels)\n",
    "plt.box(False)"
   ]
  },
  {
   "cell_type": "code",
   "execution_count": null,
   "metadata": {
    "pycharm": {}
   },
   "outputs": [],
   "source": []
  }
 ],
 "metadata": {
  "kernelspec": {
   "display_name": "Python 3",
   "language": "python",
   "name": "python3"
  },
  "language_info": {
   "codemirror_mode": {
    "name": "ipython",
    "version": 3
   },
   "file_extension": ".py",
   "mimetype": "text/x-python",
   "name": "python",
   "nbconvert_exporter": "python",
   "pygments_lexer": "ipython3",
   "version": "3.6.8"
  }
 },
 "nbformat": 4,
 "nbformat_minor": 1
}

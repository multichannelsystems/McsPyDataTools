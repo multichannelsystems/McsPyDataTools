{
 "cells": [
  {
   "cell_type": "markdown",
   "metadata": {},
   "source": [
    "# McsPyDataTools IMU Tutorial<a id='Top'></a>\n",
    "\n",
    "- <a href='#Gyrosocope Data'>Gyroscope Data</a>\n",
    "- <a href='#Accelerometer Data'>Accelerometer Data</a>\n",
    "- <a href='#6DoF-Estimation'>Combined 6-DoF Data</a>\n",
    "\n",
    "Tutorial to show the handling of IMU data collected from an MCS Headstage wearing an *Inertial Measurement Unit*\n",
    "\n",
    "Load module and the data file:"
   ]
  },
  {
   "cell_type": "code",
   "execution_count": null,
   "metadata": {},
   "outputs": [],
   "source": [
    "import sys\n",
    "sys.path.append(r\"../McsPyDataTools\")\n",
    "sys.executable"
   ]
  },
  {
   "cell_type": "code",
   "execution_count": null,
   "metadata": {},
   "outputs": [],
   "source": [
    "# These are the imports of the McsData module\n",
    "import McsPy.McsData\n",
    "import McsPy.functions_info\n",
    "from McsPy import ureg, Q_\n",
    "\n",
    "# matplotlib.pyplot will be used in these examples to generate the plots visualizing the data\n",
    "import matplotlib.pyplot as plt\n",
    "from matplotlib.figure import Figure\n",
    "from matplotlib.widgets import Slider\n",
    "# These adjustments only need to be made so that the plot gets displayed inside the notebook\n",
    "%matplotlib inline\n",
    "# %config InlineBackend.figure_formats = {'png', 'retina'}\n",
    "\n",
    "# numpy is numpy ...\n",
    "import numpy as np\n",
    "import McsPy.functions_info as fi"
   ]
  },
  {
   "cell_type": "markdown",
   "metadata": {},
   "source": [
    "Check the content of the data file folder:"
   ]
  },
  {
   "cell_type": "code",
   "execution_count": null,
   "metadata": {},
   "outputs": [],
   "source": [
    "fi.print_dir_file_info(\".\\\\TestData\")"
   ]
  },
  {
   "cell_type": "markdown",
   "metadata": {},
   "source": [
    "Check what's inside the file:"
   ]
  },
  {
   "cell_type": "code",
   "execution_count": null,
   "metadata": {},
   "outputs": [],
   "source": [
    "acc_gyro_raw_data_file_path = \".\\\\TestData\\\\2017-10-11T13-39-47McsRecording_X981_AccGyro.h5\"\n",
    "fi.print_file_info(acc_gyro_raw_data_file_path)"
   ]
  },
  {
   "cell_type": "markdown",
   "metadata": {},
   "source": [
    "Load the file in silent mode:"
   ]
  },
  {
   "cell_type": "code",
   "execution_count": null,
   "metadata": {},
   "outputs": [],
   "source": [
    "McsPy.McsData.VERBOSE = False\n",
    "raw_data = McsPy.McsData.RawData(acc_gyro_raw_data_file_path)"
   ]
  },
  {
   "cell_type": "markdown",
   "metadata": {},
   "source": [
    "## Gyroscope Data<a id='Gyroscope Data'></a>"
   ]
  },
  {
   "cell_type": "code",
   "execution_count": null,
   "metadata": {},
   "outputs": [],
   "source": [
    "gyro_channel = raw_data.recordings[0].analog_streams[4]\n",
    "print('Channel IDs: %s' % gyro_channel.channel_infos.keys())"
   ]
  },
  {
   "cell_type": "code",
   "execution_count": null,
   "metadata": {},
   "outputs": [],
   "source": [
    "gyro = np.transpose(gyro_channel.channel_data)\n",
    "gyro.shape"
   ]
  },
  {
   "cell_type": "code",
   "execution_count": null,
   "metadata": {},
   "outputs": [],
   "source": [
    "plt.figure(figsize=(12,6))\n",
    "plt.plot(gyro)\n",
    "#plt.title('Signal for Wireless (Simulation) / Raw ADC-Values (%s)' % analog_stream_0.label)\n",
    "plt.xlabel('Sample Index')\n",
    "plt.ylabel('Gyroscope Value')\n",
    "plt.grid()\n",
    "\n",
    "plt.show()"
   ]
  },
  {
   "cell_type": "markdown",
   "metadata": {},
   "source": [
    "Cutout invalid data parts:"
   ]
  },
  {
   "cell_type": "code",
   "execution_count": null,
   "metadata": {},
   "outputs": [],
   "source": [
    "gyro = gyro[0:10000,0:3]\n",
    "gyro.shape"
   ]
  },
  {
   "cell_type": "code",
   "execution_count": null,
   "metadata": {},
   "outputs": [],
   "source": [
    "time = gyro_channel.get_channel_sample_timestamps(148,0,10000)\n",
    "gyro_x = gyro_channel.get_channel_in_range(148,0,10000)\n",
    "gyro_y = gyro_channel.get_channel_in_range(149,0,10000)\n",
    "gyro_z = gyro_channel.get_channel_in_range(150,0,10000)\n",
    "plt.figure(figsize=(20,12))\n",
    "plt.plot(time[0], gyro_x[0])\n",
    "plt.plot(time[0], gyro_y[0])\n",
    "plt.plot(time[0], gyro_z[0])\n",
    "plt.xlabel('Time (%s)' % time[1])\n",
    "plt.ylabel('Angular Speed (%s)' % gyro_x[1])\n",
    "plt.title('Gyroscope Data')\n",
    "plt.show()"
   ]
  },
  {
   "cell_type": "markdown",
   "metadata": {},
   "source": [
    "## Accelerometer Data<a id='Accelerometer Data'></a>"
   ]
  },
  {
   "cell_type": "code",
   "execution_count": null,
   "metadata": {},
   "outputs": [],
   "source": [
    "acc_channel = raw_data.recordings[0].analog_streams[5]\n",
    "print('Channel IDs: %s' % acc_channel.channel_infos.keys())"
   ]
  },
  {
   "cell_type": "code",
   "execution_count": null,
   "metadata": {},
   "outputs": [],
   "source": [
    "acc = np.transpose(acc_channel.channel_data)\n",
    "acc.shape"
   ]
  },
  {
   "cell_type": "code",
   "execution_count": null,
   "metadata": {},
   "outputs": [],
   "source": [
    "plt.figure(figsize=(12,6))\n",
    "plt.plot(acc)\n",
    "#plt.title('Signal for Wireless (Simulation) / Raw ADC-Values (%s)' % analog_stream_0.label)\n",
    "plt.xlabel('Sample Index')\n",
    "plt.ylabel('Accelerometer Value')\n",
    "plt.grid()\n",
    "\n",
    "plt.show()"
   ]
  },
  {
   "cell_type": "markdown",
   "metadata": {},
   "source": [
    "Cutout invalid data parts:"
   ]
  },
  {
   "cell_type": "code",
   "execution_count": null,
   "metadata": {},
   "outputs": [],
   "source": [
    "acc = acc[0:10000,0:3]\n",
    "acc.shape"
   ]
  },
  {
   "cell_type": "code",
   "execution_count": null,
   "metadata": {},
   "outputs": [],
   "source": [
    "time = acc_channel.get_channel_sample_timestamps(160,0,10000)\n",
    "acc_x = acc_channel.get_channel_in_range(160,0,10000)\n",
    "acc_y = acc_channel.get_channel_in_range(161,0,10000)\n",
    "acc_z = acc_channel.get_channel_in_range(162,0,10000)\n",
    "plt.figure(figsize=(20,12))\n",
    "plt.plot(time[0], acc_x[0])\n",
    "plt.plot(time[0], acc_y[0])\n",
    "plt.plot(time[0], acc_z[0])\n",
    "plt.xlabel('Time (%s)' % time[1])\n",
    "plt.ylabel('Acceleration (%s)' % acc_x[1])\n",
    "plt.title('Accelerometer Data')\n",
    "plt.show()"
   ]
  },
  {
   "cell_type": "markdown",
   "metadata": {},
   "source": [
    "## Combined 6-DoF Data<a id='6DoF-Estimation'></a>"
   ]
  },
  {
   "cell_type": "code",
   "execution_count": null,
   "metadata": {},
   "outputs": [],
   "source": [
    "import skinematics as skin\n",
    "from skinematics.imus import IMU_Base\n",
    "\n",
    "from scipy import constants # for \"g\"\n",
    "\n",
    "from mpl_toolkits.mplot3d import Axes3D\n"
   ]
  },
  {
   "cell_type": "markdown",
   "metadata": {},
   "source": [
    "Load data and separate values from unit:"
   ]
  },
  {
   "cell_type": "code",
   "execution_count": null,
   "metadata": {},
   "outputs": [],
   "source": [
    "time, time_unit = gyro_channel.get_channel_sample_timestamps(148,0,10000)\n",
    "gyro_x, gyro_x_unit = gyro_channel.get_channel_in_range(148,0,10000)\n",
    "gyro_y, gyro_y_unit = gyro_channel.get_channel_in_range(149,0,10000)\n",
    "gyro_z, gyro_z_unit = gyro_channel.get_channel_in_range(150,0,10000)\n",
    "\n",
    "time, time_unit = acc_channel.get_channel_sample_timestamps(160,0,10000)\n",
    "acc_x, acc_x_unit = acc_channel.get_channel_in_range(160,0,10000)\n",
    "acc_y, acc_y_unit = acc_channel.get_channel_in_range(161,0,10000)\n",
    "acc_z, acc_z_unit = acc_channel.get_channel_in_range(162,0,10000)"
   ]
  },
  {
   "cell_type": "markdown",
   "metadata": {},
   "source": [
    "Define a new class for our data - derived from *IMU_Base* class in *scikit-kinematics*:"
   ]
  },
  {
   "cell_type": "code",
   "execution_count": null,
   "metadata": {},
   "outputs": [],
   "source": [
    "class McsIMU(IMU_Base):\n",
    "    \"\"\"Concrete class based on abstract base class IMU_Base \"\"\"    \n",
    "    \n",
    "    def get_data(self, in_file, in_data):\n",
    "        '''Get the sampling rate, as well as the recorded data,\n",
    "        and assign them to the corresponding attributes of \"self\".\n",
    "        \n",
    "        Parameters\n",
    "        ----------\n",
    "        in_file : string\n",
    "                Filename of the data-file\n",
    "        in_data : \n",
    "                Sampling rate (has to be provided!!)\n",
    "        \n",
    "        Assigns\n",
    "        -------\n",
    "        - rate : rate\n",
    "        - acc : acceleration\n",
    "        - omega : angular_velocity\n",
    "        '''\n",
    "        \n",
    "        # The sampling rate has to be provided externally\n",
    "        rate = in_data['rate']\n",
    "            \n",
    "        # Get the data, and label them\n",
    "        data.columns = ['acc_x', 'acc_y', 'acc_z', 'gyr_x', 'gyr_y', 'gyr_z', 'mag_x', 'mag_y', 'mag_z', 'taccgyr', 'tmag']\n",
    "            \n",
    "        # Set the conversion factors by hand, and apply them\n",
    "        #conversions = {}\n",
    "        #conversions['time'] = 1/1000000\n",
    "        #conversions['acc'] = 9.81\n",
    "        #conversions['gyr'] = np.pi/180   \n",
    "        #data[:,:3] *= conversions['acc']\n",
    "        #data[:,3:6] *= conversions['gyr']\n",
    "        #data[:,6] *= conversions['time']\n",
    "            \n",
    "        returnValues = [rate]\n",
    "        \n",
    "        # Extract the columns that you want, by name\n",
    "        #paramList=['acc', 'gyr', 'mag']\n",
    "        #for param in paramList:\n",
    "        #    Expression = param + '*'\n",
    "        #    returnValues.append(data_interp.filter(regex=Expression).values)\n",
    "        returnValues.append(in_data['acc'])\n",
    "        returnValues.append(in_data['gyro'])\n",
    "        self._set_info(*returnValues)\n",
    "\n",
    "# Set the conversion factors by hand, and apply them\n",
    "conversions = {}\n",
    "conversions['time'] = 1/1000000\n",
    "conversions['acc'] = constants.g\n",
    "conversions['gyr'] = np.pi/180\n",
    "\n",
    "acc = np.column_stack((acc_x, acc_y, acc_z)) * conversions['acc']\n",
    "gyro = np.column_stack((gyro_x, gyro_y, gyro_z)) * conversions['gyr']\n",
    "time_second = time * conversions['time']\n",
    "\n",
    "acc_sub = acc[::5,:].copy()\n",
    "gyro_sub = gyro[::5,:].copy()\n",
    "\n",
    "initial_orientation = np.array([[1,0,0],\n",
    "                                [0,1,0],\n",
    "                                [0,0,1]])\n",
    "in_data = {\"rate\" : 2000, \"acc\" : acc, \"omega\" : gyro, \"mag\": None}\n",
    "in_data_subsampled = {\"rate\" : 400, \"acc\" : acc_sub, \"omega\" : gyro_sub, \"mag\": None}\n",
    "#mcs_imu = McsIMU(in_file = None, R_init = initial_orientation, in_data = in_data)\n",
    "mcs_imu = McsIMU(in_file = None, R_init = initial_orientation, in_data = in_data_subsampled)\n",
    "# mcs_imu.get_data(None, {'rate': 2000, 'acc': acc, 'gyro': gyro})\n",
    "\n",
    "def show_result(imu_data):\n",
    "        fig, axs = plt.subplots(3,1)\n",
    "        axs[0].plot(imu_data.omega)\n",
    "        axs[0].set_ylabel('Omega')\n",
    "        axs[0].set_title(imu_data.q_type)\n",
    "        axs[1].plot(imu_data.acc)\n",
    "        axs[1].set_ylabel('Acc')\n",
    "        axs[2].plot(imu_data.quat[:,1:])\n",
    "        axs[2].set_ylabel('Quat')\n",
    "        plt.show()\n",
    "\n",
    "show_result(mcs_imu)"
   ]
  },
  {
   "cell_type": "markdown",
   "metadata": {},
   "source": [
    "<a href='#Top'>Back to index</a>"
   ]
  },
  {
   "cell_type": "code",
   "execution_count": null,
   "metadata": {},
   "outputs": [],
   "source": [
    "mcs_imu.q_type = 'analytical'\n",
    "mcs_imu.calc_position()\n",
    "pos_data = mcs_imu.pos\n",
    "\n",
    "fig = plt.figure()\n",
    "ax = fig.gca(projection='3d')\n",
    "ax.plot(pos_data[:,0], pos_data[:,1], pos_data[:,2], label='estimated position')\n",
    "ax.legend()\n",
    "\n",
    "plt.show()"
   ]
  }
 ],
 "metadata": {
  "kernelspec": {
   "display_name": "Python 3",
   "language": "python",
   "name": "python3"
  },
  "language_info": {
   "codemirror_mode": {
    "name": "ipython",
    "version": 3
   },
   "file_extension": ".py",
   "mimetype": "text/x-python",
   "name": "python",
   "nbconvert_exporter": "python",
   "pygments_lexer": "ipython3",
   "version": "3.6.4"
  }
 },
 "nbformat": 4,
 "nbformat_minor": 2
}
